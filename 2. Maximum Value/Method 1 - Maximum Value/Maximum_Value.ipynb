{
  "nbformat": 4,
  "nbformat_minor": 0,
  "metadata": {
    "colab": {
      "provenance": []
    },
    "kernelspec": {
      "name": "python3",
      "display_name": "Python 3"
    },
    "language_info": {
      "name": "python"
    }
  },
  "cells": [
    {
      "cell_type": "markdown",
      "source": [
        "**Maximum Value**"
      ],
      "metadata": {
        "id": "AZ0IV9HK50VT"
      }
    },
    {
      "cell_type": "markdown",
      "source": [
        "***Method 1***"
      ],
      "metadata": {
        "id": "HhnGUyxW59S1"
      }
    },
    {
      "cell_type": "code",
      "source": [
        "# Import the sys module, which provides access to some variables used or maintained by the Python interpreter\n",
        "\n",
        "import sys"
      ],
      "metadata": {
        "id": "nKcjOFbT6FI6"
      },
      "execution_count": 4,
      "outputs": []
    },
    {
      "cell_type": "code",
      "source": [
        "# Function to find the maximum value in an array\n",
        "\n",
        "def max_value(arrays):\n",
        "    # Get the length of the input array\n",
        "    length = len(arrays)\n",
        "\n",
        "    # To ensure the largest value reaches the last index\n",
        "    # Outer loop to repeat the process multiple times\n",
        "    for i in range(0, length-1):\n",
        "        # Inner loop to compare adjacent elements in the array\n",
        "        for j in range(0, length-i-1):\n",
        "            # Compare adjacent elements\n",
        "            if arrays[j] > arrays[j + 1]:\n",
        "                # If elements are in the wrong order, swap them\n",
        "                temp = arrays[j]  # Temporarily store the first element\n",
        "                arrays[j] = arrays[j + 1]  # Swap the first element with the second\n",
        "                arrays[j + 1] = temp  # Place the first element in the second position\n",
        "\n",
        "    # After sorting, the largest value is at the last index\n",
        "    maxValue = arrays[length - 1]\n",
        "\n",
        "    # Return the largest value found\n",
        "    return maxValue\n"
      ],
      "metadata": {
        "id": "cd5lQe4F6IJs"
      },
      "execution_count": 2,
      "outputs": []
    },
    {
      "cell_type": "code",
      "source": [
        "# Main function to demonstrate the max_value function\n",
        "\n",
        "def main():\n",
        "    # Create a list of scores to test the max_value function\n",
        "    scores = [60, 50, 95, 80, 70]\n",
        "\n",
        "    # Call the max_value function to find the maximum value in the scores list\n",
        "    maxValue = max_value(scores)\n",
        "\n",
        "    # Print the maximum value found in the list\n",
        "    print(\"Max Value =\", maxValue)\n",
        "\n",
        "# Entry point of the program\n",
        "\n",
        "if __name__ == \"__main__\":\n",
        "    # Call the main function if this script is executed as the main program\n",
        "    main()\n"
      ],
      "metadata": {
        "colab": {
          "base_uri": "https://localhost:8080/"
        },
        "id": "H4H1VUCC6MM5",
        "outputId": "d9621e11-ef51-4a79-8daf-d63350211df8"
      },
      "execution_count": 6,
      "outputs": [
        {
          "output_type": "stream",
          "name": "stdout",
          "text": [
            "Max Value = 95\n"
          ]
        }
      ]
    }
  ]
}